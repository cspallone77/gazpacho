{
 "cells": [
  {
   "cell_type": "code",
   "execution_count": null,
   "id": "inappropriate-naples",
   "metadata": {},
   "outputs": [],
   "source": [
    "import xarray as xr\n",
    "import matplotlib.pyplot as plt\n",
    "import matplotlib.colors\n",
    "import cartopy.crs as ccrs\n",
    "import cartopy.feature as cfeature\n",
    "import cartopy.io.shapereader as shpreader\n",
    "\n",
    "ds = xr.open_rasterio('March13th202300z-March15th202300z-NBM12HourVerification-SnowfallAnalysis-20230312_1200-20230315_0000.tif')\n",
    "ds = ds.to_dataset('band')\n",
    "ds = ds.rename({1: 'data'})\n",
    "\n",
    "data = ds.data.values\n",
    "\n",
    "fig = plt.figure(figsize=(15,10))\n",
    "ax = fig.add_subplot(111, projection=ccrs.PlateCarree())\n",
    "#ax.set_extent([-80,-72.5,37.5,42.5], crs=ccrs.PlateCarree())\n",
    "\n",
    "levels = [0, 0.5, 1, 1.5, 2, 2.5, 3, 3.5, 4, 4.5, 5, 5.5, 6, 7, 8, 9, 10, 11, 12, 14, 16, 18, 20, 22, 24, 28, 32, 36, 40, 44, 48, 52, 56, 60, 64, 68, 72]\n",
    "colors = [\"#E8E8E8\", \"#D8D8D8\", \"#C6C6C6\", \"#B2B2B2\", \"#9C9C9C\", \"#868686\", \"#89D1F8\", \"#67C1F1\", \"#3FAAE3\", \"#2395D2\", \"#0F84C3\", \"#066DA5\", \"#F8ED12\", \"#F8D512\", \"#F8BD12\", \"#F8AB12\", \"#F89612\",\"#F88512\", \"#F53614\", \"#D73113\", \"#BA2C12\", \"#A02710\", \"#861E0B\", \"#6E1303\", \"#E516F6\", \"#CF15DE\", \"#B714C4\", \"#A012AB\", \"#891093\", \"#700D78\", \"#FFC5D3\", \"#FFADC0\", \"#FD91AA\", \"#EC819A\", \"#D56C84\", \"#B75369\"]\n",
    "\n",
    "cmap = matplotlib.colors.ListedColormap(colors)\n",
    "norm = matplotlib.colors.BoundaryNorm(levels,len(levels))\n",
    "\n",
    "reader = shpreader.Reader('w_08mr23.shp')\n",
    "cwas = list(reader.geometries())\n",
    "CWAS = cfeature.ShapelyFeature(cwas, ccrs.PlateCarree())\n",
    "\n",
    "ax.add_feature(cfeature.COASTLINE.with_scale('10m'), linewidth=1.5)\n",
    "ax.add_feature(cfeature.BORDERS.with_scale('10m'), linewidth=1.5)\n",
    "ax.add_feature(cfeature.STATES.with_scale('10m'), linewidth=1.5)\n",
    "ax.add_feature(CWAS, facecolor='white', edgecolor='black', linewidth=2)\n",
    "\n",
    "contf = ax.contourf(ds.x.values, ds.y.values, data, vmin=0, vmax=50, transform=ccrs.PlateCarree())"
   ]
  }
 ],
 "metadata": {
  "kernelspec": {
   "display_name": "Python 3",
   "language": "python",
   "name": "python3"
  },
  "language_info": {
   "name": ""
  }
 },
 "nbformat": 4,
 "nbformat_minor": 5
}
